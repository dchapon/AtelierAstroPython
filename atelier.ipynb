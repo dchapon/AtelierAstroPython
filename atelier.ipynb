{
 "cells": [
  {
   "cell_type": "markdown",
   "source": [
    "# Atelier Python en astrophysique\n",
    "\n",
    "## Notre laboratoire scientifique\n",
    "Cet atelier permet de s'initier au langage de programmation Python en manipulant des données issues d'une simulation numérique en astrophysique, réalisées par des chercheurs du [CEA-IRFU](https://irfu.cea.fr/) :\n",
    "\n",
    "<img src=\"./imgs/logosCEA_Irfu.png\" alt=\"CEA-Irfu\"/>\n",
    "\n",
    "Cette simulation, baptisée ``Extreme Horizon`` et réalisée en 2020 sur le supercalculateur `Joliot-Curie` du CEA, a nécessité l'utilisation de plus de 25600 processeurs travaillant en parallèle et a totalisé près de 50 millions d'heures de calcul pour modéliser numériquement une portion de notre univers, en 3D, sur toute son histoire, soit près de 14 milliards d'années.\n",
    "\n",
    "Les données produites par cette simulation représentent de très importantes volumétries. Une sauvegarde unique de l'état de la simulation faite à un instant donné de l'évolution dynamique de cet univers virtuel représente près de 5 To de données. De très nombreuses sauvegardes ont été faites à des moments clés de l'evolution de notre univers virtuel, totalisant plusieurs centaines de téraoctets d'espace disques, et sur lesquels les chercheurs s'appuient pour étudier les processus de formation des étoiles, des galaxies et des grandes structures cosmologiques et tenter d'apporter des éléments de réponse aux questions que posent l'evolution de notre Univers.\n",
    "\n",
    "Voir aussi :\n",
    "\n",
    " - [La simulation Extreme Horizon (CEA-IRFU)](https://irfu.cea.fr/Projets/COAST/extreme_horizon.html)"
   ],
   "metadata": {
    "collapsed": false,
    "pycharm": {
     "name": "#%% md\n"
    }
   }
  },
  {
   "cell_type": "markdown",
   "source": [
    "### Aperçu de la simulation Extreme Horizon\n",
    "Ci-dessous, vous pouvez explorer une tranche de la simulation `Extreme Horizon` en vous déplaçant dans cette carte interactive, réalisée à partir d'une sauvegarde de la simulation numérique, faite lorsque l'univers n'était agé que de quelques milliards d'années. Sur cette carte, plusieurs quantités physiques peuvent être visualisées, liées au gaz (principalement de l'hydrogène, majoritairement sous forme monoatomique, élément le plus abondant dans notre univers) :\n",
    "\n",
    " - La densité du gaz,\n",
    " - L'entropie du gaz,\n",
    " - La teneur en métaux (éléments plus lourds, issus de l'explosion des supernovae),\n",
    " - La vitesse du gaz,\n",
    " - les lignes de champ de vitesse du gaz.\n",
    "\n",
    "Vous pouvez déplacer la carte par simple glisser/déposer et zoomer dans la carte à plus haute résolution en utilisant la molette :"
   ],
   "metadata": {
    "collapsed": false,
    "pycharm": {
     "name": "#%% md\n"
    }
   }
  },
  {
   "cell_type": "code",
   "execution_count": null,
   "outputs": [],
   "source": [
    "# Appuyer sur Shift + Entrée pour éxecuter la cellule courante\n",
    "from IPython.display import IFrame, display\n",
    "display(IFrame(\"http://www.galactica-simulations.eu/EH_L50/index.html\", \"100%\", \"600px\"))"
   ],
   "metadata": {
    "collapsed": false,
    "pycharm": {
     "name": "#%%\n"
    }
   }
  },
  {
   "cell_type": "code",
   "execution_count": null,
   "outputs": [],
   "source": [
    "## Introduction au Python\n",
    "\n",
    "### Un langage interprété\n",
    "Le Python est un langage de programmation inventé fin 1989. Les langages d'usage courant de l'époque comme le C et le Fortran, sont des langages *compilés*. Pour ces langages, un programme spécifique, appelé *compilateur*, est chargé de transformer un fichier de texte écrit par un humain (en C ou en Fortran) en un programme exécutable, contenant des instructions en langage machine, compréhensibles par l'ordinateur. Cet exécutable doit, dans un deuxième temps, être lancé par l'utilisateur pour que son programme s'exécute.\n",
    "\n",
    "À l'inverse, le langage Python est doté d'un programme unique en charge de la compilation (à la volée) et l'éxécution des commandes écrites par un être humain. Ce programme est appelé *interpréteur* et permet l'éxécution immédiate des commandes utilisateurs, sans passer par une phase de compilation, on parle alors de langage *interprété*.\n",
    "\n",
    "En bref, Python est un langage :\n",
    "    \n",
    "   - **Interprété** : pas d'étape de compilation,\n",
    "   - **Orienté Objet** : Objet: structures de données complexes possédant des attributs et des méthodes,\n",
    "   - de **haut niveau** : niveau d'abstraction élevé, ergonomique, pour faire exécuter des tâches complexes à un ordinateur,\n",
    "   - **Dynamique**: les variables peuvent changer à la volée de contenu, de sens,\n",
    "   - **Autoportant** : peu de dépendances extérieurs requises,\n",
    "   - doté de **Structures de données** : moyens pour stocker/manipuler les données,\n",
    "   - **de scripting** : du code python peut contrôler d'autres programmes, s'interfacer avec du code C/Fortran,\n",
    "   - dont les variables sont **Typées** : différents types de variables (int, string, float),\n",
    "   - qui suit une **syntaxe** : des règles de grammaire difinissent le language,\n",
    "   - **Extensible** : sous forme de librairies, qui forment des collections de code réutilisable par la communauté,\n"
   ],
   "metadata": {
    "collapsed": false,
    "pycharm": {
     "name": "#%%\n"
    }
   }
  },
  {
   "cell_type": "markdown",
   "source": [
    "### Différentes façons d'exécuter du code Python\n",
    "#### 1. L'interpréteur en ligne de commande **python**\n",
    "\n",
    "Dans un shell, en ligne de commande, utilisez directement l'interpréteur **python** pour exécutér des commandes :\n",
    "\n",
    "```python\n",
    "$ python\n",
    "> print(\"Salut !\")\n",
    "Salut !\n",
    "```\n",
    "\n",
    "#### 2. Éditer un script Python (fichier ``.py``)\n",
    "\n",
    "Créez un fichier texte portant l'extension ``.py`` :\n",
    "\n",
    "``mon_programme.py``:\n",
    "```python\n",
    "print(\"Salut !\")\n",
    "```\n",
    "\n",
    "Dans un shell, exécutez ce script avec l'interpréteur **python** :\n",
    "```shell\n",
    "> python mon_programme.py\n",
    "Salut !\n",
    "```"
   ],
   "metadata": {
    "collapsed": false,
    "pycharm": {
     "name": "#%% md\n"
    }
   }
  },
  {
   "cell_type": "markdown",
   "source": [
    "#### 3. L'interpréteur de commande amélioré ipython\n",
    "\n",
    "**ipython** fournit un interpréteur en ligne de commande amélioré. Il s'utilise comme l'interpréteur **python** standard, mais fournit des fonctionnalités supplémentaires, comme l'autocomplétion, l'aide en ligne, les [commandes magiques](https://ipython.readthedocs.io/en/stable/interactive/magics.html), etc.\n",
    "\n",
    "Pour l'exécuter, tapez ``ipython``:\n",
    "\n",
    "```ipython\n",
    "$ ipython\n",
    "> run mon_programme.py\n",
    "Salut!\n",
    "```\n",
    "\n",
    "#### 5. Les notebooks Jupyter(Lab)\n",
    "\n",
    "les notebooks [jupyter](https://docs.jupyter.org/en/latest/index.html) sont des interfaces web permettant d'exécuter de manière interactive des commandes python, directement en ligne. Ils se présentent sous la forme de fichier portant une extension `.ipynb`.\n",
    "\n",
    "Pour lancer un serveur jupyter en local :\n",
    "\n",
    "```shell\n",
    "? jupyter notebook\n",
    "```\n",
    "\n",
    "Puis sélectionner dans votre navigateur à l'URL indiquée le notebook que vous souhaitez ouvrir (le fichier ``.ipynb``)\n",
    "\n",
    "Cet atelier se présente sous la forme d'un notebook jupyter !\n",
    "\n",
    "Pour exécuter le contenu d'une cellule du notebook, positionnez votre curseur dans la cellule et appuyez sur Shift+Entrée."
   ],
   "metadata": {
    "collapsed": false,
    "pycharm": {
     "name": "#%% md\n"
    }
   }
  },
  {
   "cell_type": "markdown",
   "source": [
    "\n",
    "#### 6. Environnements de développement intégrés pour Python\n",
    "\n",
    "Il existe des logiciels dédiés aux développeurs Python appelés `Environnements de développement intégrés` (IDE) qui permettent d'apporter une grande quantité de fonctionnalités complémentaires pour accroître la productivité des développeurs informatiques, notamment ceux qui travaillent en Python.\n",
    "\n",
    "Ces fonctionnalités peuvent être diverses : correcteur syntaxique, navigation dans le code source, auto-complétion, debugging, gestion de versions, exécution de différentes configurations d'exécution python, intégration de tests, génération de documentation, configuration de la distribution python, etc.\n",
    "\n",
    "On pourra citer, à titre d'exemple, quelques IDEs :\n",
    "\n",
    "   - [Spyder](https://www.spyder-ide.org/),\n",
    "   - [PyCharm](https://www.jetbrains.com/pycharm/),\n",
    "   - [Eclipse+PyDev](https://www.pydev.org/),\n",
    "   - [VisualStudioCode](https://code.visualstudio.com/),\n",
    "   - [IDLE](https://docs.python.org/fr/3/library/idle.html)."
   ],
   "metadata": {
    "collapsed": false,
    "pycharm": {
     "name": "#%% md\n"
    }
   }
  },
  {
   "cell_type": "markdown",
   "source": [
    "## Imports\n",
    "\n",
    "### "
   ],
   "metadata": {
    "collapsed": false,
    "pycharm": {
     "name": "#%% md\n"
    }
   }
  }
 ],
 "metadata": {
  "kernelspec": {
   "display_name": "Python 3 (ipykernel)",
   "language": "python",
   "name": "python3"
  },
  "language_info": {
   "codemirror_mode": {
    "name": "ipython",
    "version": 3
   },
   "file_extension": ".py",
   "mimetype": "text/x-python",
   "name": "python",
   "nbconvert_exporter": "python",
   "pygments_lexer": "ipython3",
   "version": "3.8.10"
  }
 },
 "nbformat": 4,
 "nbformat_minor": 1
}