{
 "cells": [
  {
   "cell_type": "markdown",
   "metadata": {
    "pycharm": {
     "name": "#%% md\n"
    }
   },
   "source": [
    "# Atelier Python en astrophysique\n",
    "\n",
    "## Notre laboratoire scientifique : la simulation *Extreme Horizon*\n",
    "Cet atelier permet de s'initier au langage de programmation Python en manipulant des données issues d'une simulation numérique en astrophysique, réalisées par des chercheurs du [CEA-IRFU](https://irfu.cea.fr/) :\n",
    "\n",
    "<img src=\"./imgs/logosCEA_Irfu.png\" alt=\"CEA-Irfu\"/>\n",
    "\n",
    "Cette simulation, baptisée ``Extreme Horizon`` et réalisée en 2020 sur le supercalculateur `Joliot-Curie` du CEA, a nécessité l'utilisation de plus de 25600 processeurs travaillant en parallèle et a totalisé près de 50 millions d'heures de calcul pour modéliser numériquement une portion de notre univers, en 3D, sur toute son histoire, soit près de 14 milliards d'années.\n",
    "\n",
    "Les données produites par cette simulation représentent de très importantes volumétries. Une sauvegarde unique de l'état de la simulation faite à un instant donné de l'évolution dynamique de cet univers virtuel représente près de 5 To de données. De très nombreuses sauvegardes ont été faites à des moments clés de l'evolution de notre univers virtuel, totalisant plusieurs centaines de téraoctets d'espace disques, et sur lesquels les chercheurs s'appuient pour étudier les processus de formation des étoiles, des galaxies et des grandes structures cosmologiques et tenter d'apporter des éléments de réponse aux questions que posent l'evolution de notre Univers.\n",
    "\n",
    "Voir aussi :\n",
    "\n",
    " - [La simulation Extreme Horizon (CEA-IRFU)](https://irfu.cea.fr/Projets/COAST/extreme_horizon.html)"
   ]
  },
  {
   "cell_type": "markdown",
   "metadata": {
    "pycharm": {
     "name": "#%% md\n"
    }
   },
   "source": [
    "### Aperçu de la simulation Extreme Horizon\n",
    "Ci-dessous, vous pouvez explorer une tranche de la simulation `Extreme Horizon` en vous déplaçant dans cette carte interactive, réalisée à partir d'une sauvegarde de la simulation numérique, faite lorsque l'univers n'était agé que de quelques milliards d'années. Sur cette carte, plusieurs quantités physiques peuvent être visualisées, liées au gaz (principalement de l'hydrogène, majoritairement sous forme monoatomique, élément le plus abondant dans notre univers) :\n",
    "\n",
    " - La densité du gaz,\n",
    " - L'entropie du gaz,\n",
    " - La teneur en métaux (éléments plus lourds, issus de l'explosion des supernovae),\n",
    " - La vitesse du gaz,\n",
    " - les lignes de champ de vitesse du gaz.\n",
    "\n",
    "Vous pouvez déplacer la carte par simple glisser/déposer et zoomer dans la carte à plus haute résolution en utilisant la molette :"
   ]
  },
  {
   "cell_type": "code",
   "execution_count": 1,
   "metadata": {
    "pycharm": {
     "name": "#%%\n"
    }
   },
   "outputs": [
    {
     "data": {
      "text/html": [
       "\n",
       "        <iframe\n",
       "            width=\"100%\"\n",
       "            height=\"600px\"\n",
       "            src=\"http://www.galactica-simulations.eu/EH_L50/index.html\"\n",
       "            frameborder=\"0\"\n",
       "            allowfullscreen\n",
       "            \n",
       "        ></iframe>\n",
       "        "
      ],
      "text/plain": [
       "<IPython.lib.display.IFrame at 0x7f1e304a8370>"
      ]
     },
     "metadata": {},
     "output_type": "display_data"
    }
   ],
   "source": [
    "# Appuyer sur Shift + Entrée pour éxecuter la cellule courante\n",
    "from IPython.display import IFrame, display\n",
    "display(IFrame(\"http://www.galactica-simulations.eu/EH_L50/index.html\", \"100%\", \"600px\"))"
   ]
  },
  {
   "cell_type": "markdown",
   "metadata": {
    "pycharm": {
     "name": "#%%\n"
    }
   },
   "source": [
    "## Introduction au Python\n",
    "\n",
    "### Un langage interprété\n",
    "Le Python est un langage de programmation inventé fin 1989. Les langages d'usage courant de l'époque comme le C et le Fortran, sont des langages *compilés*. Pour ces langages, un programme spécifique, appelé *compilateur*, est chargé de transformer un fichier de texte écrit par un humain (en C ou en Fortran) en un programme exécutable, contenant des instructions en langage machine, compréhensibles par l'ordinateur. Cet exécutable doit, dans un deuxième temps, être lancé par l'utilisateur pour que son programme s'exécute.\n",
    "\n",
    "À l'inverse, le langage Python est doté d'un programme unique en charge de la compilation (à la volée) et l'éxécution des commandes écrites par un être humain. Ce programme est appelé *interpréteur* et permet l'éxécution immédiate des commandes utilisateurs, sans passer par une phase de compilation, on parle alors de langage *interprété*.\n",
    "\n",
    "En bref, Python est un langage :\n",
    "    \n",
    "   - **Interprété** : pas d'étape de compilation,\n",
    "   - **Orienté Objet** : Objet: structures de données complexes possédant des attributs et des méthodes,\n",
    "   - de **haut niveau** : niveau d'abstraction élevé, ergonomique, pour faire exécuter des tâches complexes à un ordinateur,\n",
    "   - **Dynamique**: les variables peuvent changer à la volée de contenu, de sens,\n",
    "   - **Autoportant** : peu de dépendances extérieurs requises,\n",
    "   - doté de **Structures de données** : moyens pour stocker/manipuler les données,\n",
    "   - **de scripting** : du code python peut contrôler d'autres programmes, s'interfacer avec du code C/Fortran,\n",
    "   - dont les variables sont **Typées** : différents types de variables (int, string, float),\n",
    "   - qui suit une **syntaxe** : des règles de grammaire difinissent le language,\n",
    "   - **Extensible** : sous forme de librairies, qui forment des collections de code réutilisable par la communauté,\n"
   ]
  },
  {
   "cell_type": "markdown",
   "metadata": {},
   "source": [
    "### Différentes façons d'exécuter du code Python\n",
    "#### 1. L'interpréteur en ligne de commande **python**\n",
    "\n",
    "Dans un shell, en ligne de commande, utilisez directement l'interpréteur **python** pour exécutér des commandes :\n",
    "\n",
    "```python\n",
    "$ python\n",
    "> print(\"Salut !\")\n",
    "Salut !\n",
    "```\n",
    "\n",
    "#### 2. Éditer un script Python (fichier ``.py``)\n",
    "\n",
    "Créez un fichier texte portant l'extension ``.py`` :\n",
    "\n",
    "``mon_programme.py``:\n",
    "```python\n",
    "print(\"Salut !\")\n",
    "```\n",
    "\n",
    "Dans un shell, exécutez ce script avec l'interpréteur **python** :\n",
    "```shell\n",
    "$ python mon_programme.py\n",
    "Salut !\n",
    "```"
   ]
  },
  {
   "cell_type": "markdown",
   "metadata": {},
   "source": [
    "#### 3. L'interpréteur de commande amélioré ipython\n",
    "\n",
    "**ipython** fournit un interpréteur en ligne de commande amélioré. Il s'utilise comme l'interpréteur **python** standard, mais fournit des fonctionnalités supplémentaires, comme l'autocomplétion, l'aide en ligne, les [commandes magiques](https://ipython.readthedocs.io/en/stable/interactive/magics.html), etc.\n",
    "\n",
    "Pour l'exécuter, tapez ``ipython``:\n",
    "\n",
    "```ipython\n",
    "$ ipython\n",
    "> run mon_programme.py\n",
    "Salut!\n",
    "```\n",
    "\n",
    "#### 5. Les notebooks Jupyter(Lab)\n",
    "\n",
    "les notebooks [jupyter](https://docs.jupyter.org/en/latest/index.html) sont des interfaces web permettant d'exécuter de manière interactive des commandes python, directement en ligne. Ils se présentent sous la forme de fichier portant une extension `.ipynb`.\n",
    "\n",
    "Pour lancer un serveur jupyter en local :\n",
    "\n",
    "```shell\n",
    "$ jupyter notebook\n",
    "~/AtelierPythonAstro/venv/bin/python -m jupyter notebook --no-browser --notebook-dir=~/AtelierPythonAstro\n",
    "[I 10:09:34.474 NotebookApp] Serving notebooks from local directory: ~/AtelierPythonAstro\n",
    "[I 10:09:34.474 NotebookApp] Jupyter Notebook 6.4.11 is running at:\n",
    "[I 10:09:34.474 NotebookApp] http://localhost:8888/?token=3254e6c8b0a5fefb04b669d1d33e2fa5a6562d970a3ec60a\n",
    "[I 10:09:34.474 NotebookApp]  or http://127.0.0.1:8888/?token=3254e6c8b0a5fefb04b669d1d33e2fa5a6562d970a3ec60a\n",
    "[I 10:09:34.474 NotebookApp] Use Control-C to stop this server and shut down all kernels (twice to skip confirmation).\n",
    "...\n",
    "```\n",
    "\n",
    "Puis sélectionner dans votre navigateur à l'URL indiquée le notebook que vous souhaitez ouvrir (le fichier ``.ipynb``)\n",
    "\n",
    "Cet atelier se présente sous la forme d'un notebook jupyter !\n",
    "\n",
    "##### Note importante :\n",
    "\n",
    "Pour exécuter le contenu d'une cellule du notebook, positionnez votre curseur dans la cellule et appuyez sur **Shift+Entrée**."
   ]
  },
  {
   "cell_type": "markdown",
   "metadata": {},
   "source": [
    "\n",
    "#### 6. Environnements de développement intégrés pour Python\n",
    "\n",
    "Il existe des logiciels dédiés aux développeurs Python appelés `Environnements de développement intégrés` (IDE) qui permettent d'apporter une grande quantité de fonctionnalités complémentaires pour accroître la productivité des développeurs informatiques, notamment ceux qui travaillent en Python.\n",
    "\n",
    "Ces fonctionnalités peuvent être diverses : correcteur syntaxique, navigation dans le code source, auto-complétion, debugging, gestion de versions, exécution de différentes configurations d'exécution python, intégration de tests, génération de documentation, configuration de la distribution python, etc.\n",
    "\n",
    "On pourra citer, à titre d'exemple, quelques IDEs :\n",
    "\n",
    "   - [Spyder](https://www.spyder-ide.org/),\n",
    "   - [PyCharm](https://www.jetbrains.com/pycharm/),\n",
    "   - [Eclipse+PyDev](https://www.pydev.org/),\n",
    "   - [VisualStudioCode](https://code.visualstudio.com/),\n",
    "   - [IDLE](https://docs.python.org/fr/3/library/idle.html)."
   ]
  },
  {
   "cell_type": "markdown",
   "metadata": {},
   "source": [
    "### Importer un paquet\n",
    "\n",
    "Même si la librairie standard du [Python](https://docs.python.org/fr/3/) propose une grande richesse de structures de données et de fonctionnalités de base, la force de Python réside dans son extensibilité. Il est très simple d'importer des librairies tierces pour utiliser des fonctionnalités spécifiques supplémentaires requises par l'utilisateur. En Python, ces librairies tierces portent le nom de ``paquets``, et il en existe des centaines de milliers, pour répondre à une grande diversité de besoins (visualisation de données, lecture de formats de fichiers, calcul scientifique, intelligence artificielle, graphiques scientifique, application web, etc.)\n",
    "\n",
    "Pour être accessible à tous, la plupart des paquets qui ne font pas directement partie de la librairie standard Python (ceux-si ne nécessitent aucune installation, ils sont fournis avec la distribution Python) sont disponibles directement depuis l'index de paquets Python [PyPI](https://pypi.org/), d'où ils sont installables très rapidement à l'aide de la commande ``pip``:\n",
    "\n",
    "```bash\n",
    "$ pip install numpy\n",
    "Collecting numpy\n",
    "  Using cached numpy-1.22.3-cp38-cp38-manylinux_2_17_x86_64.manylinux2014_x86_64.whl (16.8 MB)\n",
    "Installing collected packages: numpy\n",
    "Successfully installed numpy-1.22.3\n",
    "$ python\n",
    "Python 3.8.10 (default, Mar 15 2022, 12:22:08) \n",
    "[GCC 9.4.0] on linux\n",
    "Type \"help\", \"copyright\", \"credits\" or \"license\" for more information.\n",
    "```"
   ]
  },
  {
   "cell_type": "code",
   "execution_count": 2,
   "metadata": {},
   "outputs": [
    {
     "data": {
      "text/plain": [
       "6"
      ]
     },
     "execution_count": 2,
     "metadata": {},
     "output_type": "execute_result"
    }
   ],
   "source": [
    "import numpy\n",
    "arr = numpy.array([1, 2, 3])\n",
    "arr.sum()"
   ]
  },
  {
   "cell_type": "markdown",
   "metadata": {},
   "source": [
    "Parmi les paquets les plus connus et les plus utilisés, citons :\n",
    "\n",
    "   - [Matplotlib](https://matplotlib.org/) : graphiques scientifiques,\n",
    "   - [pandas](https://pandas.pydata.org/) : analyse de données tabulées,\n",
    "   - [Numpy](https://numpy.org/install/) : manipulation de tableaux multidimensionnels et calcul scientifique,\n",
    "   - [Scipy](https://scipy.org/) : algorithmique, algèbre linéaire, optimisation, équations différentielles,\n",
    "   - [Pillow](https://pillow.readthedocs.io/en/stable/) : traitement d'images,\n",
    "   - [Scikit-learn](https://scikit-learn.org/stable/index.html) : apprentissage automatique, IA.\n",
    "   \n",
    "\n",
    "#### Arborescence d'un paquet Python\n",
    "\n",
    "Un paquet Python est un répertoire contenant des fichiers python (``.py``) appelés ``modules`` ou d'autres répertoires (sous-paquets formant une arborescence de fichiers) dans lesquels sont implémentées des fonctionalités particulières sous formes de classes (orienté objet), de fonctions ou de variables Python.\n",
    "\n",
    "  - Pour importer un paquet ``nom_du_paquet``:\n",
    "```python\n",
    ">>> import nom_du_paquet\n",
    "```\n",
    "\n",
    "  - Pour importer un sous-paquet (sous-répertoire ``sub``) depuis ce paquet:\n",
    " \n",
    "```python\n",
    "   from nom_du_paquet import sub\n",
    "```\n",
    "\n",
    "  - Pour importer un ``module`` (par exemple le fichier ``simple.py``) depuis ce sous-paquet :\n",
    "```python\n",
    ">>> from nom_du_paquet.sub import simple\n",
    "```\n",
    "\n",
    "  - Pour importer une *variable* ou une *classe* ``A`` depuis ce module :\n",
    "```python\n",
    ">>> from nom_du_paquet.sub.simple import A\n",
    "```\n",
    "\n",
    "le ``.`` joue ici le rôle de séparateur permettant de descendre dans l'arborescence du paquet pour aller importer un élément précis."
   ]
  },
  {
   "cell_type": "markdown",
   "source": [
    "### Types de données standards\n",
    "\n",
    "Python offre tous les types les plus standards de données : entiers (``int``), nombre à virgule flottante (``float``), booléen (``bool``), nombre complexe (``complex``), chaîne de caractères (``str``) :\n"
   ],
   "metadata": {
    "collapsed": false,
    "pycharm": {
     "name": "#%% md\n"
    }
   }
  },
  {
   "cell_type": "code",
   "execution_count": null,
   "outputs": [],
   "source": [
    "a = 2\n",
    "type(a)"
   ],
   "metadata": {
    "collapsed": false,
    "pycharm": {
     "name": "#%%\n"
    }
   }
  },
  {
   "cell_type": "code",
   "execution_count": null,
   "outputs": [],
   "source": [
    "b = 3.14159\n",
    "type(b)"
   ],
   "metadata": {
    "collapsed": false,
    "pycharm": {
     "name": "#%%\n"
    }
   }
  },
  {
   "cell_type": "code",
   "execution_count": null,
   "outputs": [],
   "source": [
    "c = True\n",
    "type(c)"
   ],
   "metadata": {
    "collapsed": false,
    "pycharm": {
     "name": "#%%\n"
    }
   }
  },
  {
   "cell_type": "code",
   "execution_count": null,
   "outputs": [],
   "source": [
    "z = 2.0 + 5.0j\n",
    "type(z)"
   ],
   "metadata": {
    "collapsed": false,
    "pycharm": {
     "name": "#%%\n"
    }
   }
  },
  {
   "cell_type": "code",
   "execution_count": null,
   "outputs": [],
   "source": [
    "s = \"du texte\"\n",
    "type(s)"
   ],
   "metadata": {
    "collapsed": false,
    "pycharm": {
     "name": "#%%\n"
    }
   }
  },
  {
   "cell_type": "markdown",
   "source": [
    "Toutes les variables en Python sont des ``objets``, c'est-à-dire des instances d'une ``classe`` (au sens programmation orientée-objet) :\n",
    "\n",
    "  - un objet a des **méthodes** (fonctions  qui s'appliquent à l'objet lui-même) et des **propriétés** (données internes à l'objet),\n",
    "  - on a accès aux méthodes et aux propriétés de l'objet via l'opérateur ``.`` : ``obj.methode()``, ou ``obj.propriete``,\n",
    "  - dans l'environnement interactif d'un notebook, les propriétés et méthodes accessibles d'un objet peuvent être suggérees par **tab-complétion**."
   ],
   "metadata": {
    "collapsed": false,
    "pycharm": {
     "name": "#%% md\n"
    }
   }
  },
  {
   "cell_type": "code",
   "execution_count": null,
   "outputs": [],
   "source": [
    "s.upper()"
   ],
   "metadata": {
    "collapsed": false,
    "pycharm": {
     "name": "#%%\n"
    }
   }
  },
  {
   "cell_type": "code",
   "execution_count": null,
   "outputs": [],
   "source": [
    "b.is_integer()"
   ],
   "metadata": {
    "collapsed": false,
    "pycharm": {
     "name": "#%%\n"
    }
   }
  },
  {
   "cell_type": "code",
   "execution_count": null,
   "outputs": [],
   "source": [
    "c.bit_length()"
   ],
   "metadata": {
    "collapsed": false,
    "pycharm": {
     "name": "#%%\n"
    }
   }
  },
  {
   "cell_type": "code",
   "execution_count": null,
   "outputs": [],
   "source": [
    "c.real"
   ],
   "metadata": {
    "collapsed": false,
    "pycharm": {
     "name": "#%%\n"
    }
   }
  },
  {
   "cell_type": "markdown",
   "source": [
    "### Opérateurs logiques, comparateurs et ``None``\n",
    "\n",
    "Les opérateurs logiques de Python suivent une syntaxe simple : ``or`` (*ou* logique), ``and`` (*et* logique) et ``not`` (*non* logique)."
   ],
   "metadata": {
    "collapsed": false,
    "pycharm": {
     "name": "#%% md\n"
    }
   }
  },
  {
   "cell_type": "code",
   "execution_count": null,
   "outputs": [],
   "source": [
    "v = True\n",
    "f = False\n",
    "v or f"
   ],
   "metadata": {
    "collapsed": false,
    "pycharm": {
     "name": "#%%\n"
    }
   }
  },
  {
   "cell_type": "code",
   "execution_count": null,
   "outputs": [],
   "source": [
    "v and f"
   ],
   "metadata": {
    "collapsed": false,
    "pycharm": {
     "name": "#%%\n"
    }
   }
  },
  {
   "cell_type": "code",
   "execution_count": null,
   "outputs": [],
   "source": [
    "not v"
   ],
   "metadata": {
    "collapsed": false,
    "pycharm": {
     "name": "#%%\n"
    }
   }
  },
  {
   "cell_type": "markdown",
   "source": [
    "La variable spéciale ``None`` (aucun) permet de déclarer des variables dans un état nul ou vide est est très utilisée pour définir les valeurs par défaut des méthodes ou des fonctions par exemple.\n",
    "\n",
    "L'opérateur d'identité ``is`` permet de tester si deux objets sont les même, alors que l'opérateur d'égalité ``==`` (resp. ``!=``) va tester si ils sont égaux (resp. inégaux). Les comparateurs ``<``, `<=`,  et ``>``, `>=` permettent de tester les relations d'ordre :"
   ],
   "metadata": {
    "collapsed": false,
    "pycharm": {
     "name": "#%% md\n"
    }
   }
  },
  {
   "cell_type": "code",
   "execution_count": null,
   "outputs": [],
   "source": [
    "s2 = \"dev\"\n",
    "s2 is None"
   ],
   "metadata": {
    "collapsed": false,
    "pycharm": {
     "name": "#%%\n"
    }
   }
  },
  {
   "cell_type": "code",
   "execution_count": null,
   "outputs": [],
   "source": [
    "b is not None"
   ],
   "metadata": {
    "collapsed": false,
    "pycharm": {
     "name": "#%%\n"
    }
   }
  },
  {
   "cell_type": "code",
   "execution_count": null,
   "outputs": [],
   "source": [
    "c == s2"
   ],
   "metadata": {
    "collapsed": false,
    "pycharm": {
     "name": "#%%\n"
    }
   }
  },
  {
   "cell_type": "code",
   "execution_count": null,
   "outputs": [],
   "source": [
    "b == 3.14159"
   ],
   "metadata": {
    "collapsed": false,
    "pycharm": {
     "name": "#%%\n"
    }
   }
  },
  {
   "cell_type": "code",
   "execution_count": null,
   "outputs": [],
   "source": [
    "b > a"
   ],
   "metadata": {
    "collapsed": false,
    "pycharm": {
     "name": "#%%\n"
    }
   }
  },
  {
   "cell_type": "code",
   "execution_count": null,
   "outputs": [],
   "source": [
    "a <= 2"
   ],
   "metadata": {
    "collapsed": false,
    "pycharm": {
     "name": "#%%\n"
    }
   }
  },
  {
   "cell_type": "markdown",
   "source": [
    "### Collections\n",
    "\n",
    "#### tuples\n",
    "\n",
    "les ``tuples`` sont des conteneurs :\n",
    "  - **ordonnés**: l'ordre des éléments est conservé,\n",
    "  - **non-mutables** : on ne peut ni ajouter ni retirer des éléments après l'initalisation,\n",
    "  - contenant des données pouvant être de **types hétérogènes**.\n",
    "\n",
    "Ils sont très utilisés pour grouper ou dégrouper des variables, notamment dans les valeurs d'entrée ou de sortie des méthodes ou des fonctions ou plus généralement pour transporter des variables que l'on souhaite ne pas pouvoir modifier. Ils s'initialisent avec des parenthèses ``()``, peuvent être concaténés avec ``+`` et permettent l'accès en lecture à ses éléments avec l'opérateur ``[]``:"
   ],
   "metadata": {
    "collapsed": false,
    "pycharm": {
     "name": "#%% md\n"
    }
   }
  },
  {
   "cell_type": "code",
   "execution_count": null,
   "outputs": [],
   "source": [
    "t = (a, \"encore du texte\", False, z)\n",
    "t"
   ],
   "metadata": {
    "collapsed": false,
    "pycharm": {
     "name": "#%%\n"
    }
   }
  },
  {
   "cell_type": "code",
   "execution_count": null,
   "outputs": [],
   "source": [
    "type(t)"
   ],
   "metadata": {
    "collapsed": false,
    "pycharm": {
     "name": "#%%\n"
    }
   }
  },
  {
   "cell_type": "code",
   "execution_count": null,
   "outputs": [],
   "source": [
    "t[1]"
   ],
   "metadata": {
    "collapsed": false,
    "pycharm": {
     "name": "#%%\n"
    }
   }
  },
  {
   "cell_type": "code",
   "execution_count": null,
   "outputs": [],
   "source": [
    "t[2] = \"autre texte\" # Erreur => non-mutable"
   ],
   "metadata": {
    "collapsed": false,
    "pycharm": {
     "name": "#%%\n"
    }
   }
  },
  {
   "cell_type": "code",
   "execution_count": null,
   "outputs": [],
   "source": [
    "# Concaténation de plusieurs tuples = un nouveau tuple\n",
    "t2 = t + (23, \"bcd\")\n",
    "t2"
   ],
   "metadata": {
    "collapsed": false,
    "pycharm": {
     "name": "#%%\n"
    }
   }
  },
  {
   "cell_type": "code",
   "execution_count": null,
   "outputs": [],
   "source": [
    "# Valeurs de retour multiples d'une fonction => tuple\n",
    "def ajoute_un(i):\n",
    "    j = i+1\n",
    "    k = j+1\n",
    "    m = k+1\n",
    "    t = (j,k,m)\n",
    "    return t\n",
    "\n",
    "ajoute_un(5)"
   ],
   "metadata": {
    "collapsed": false,
    "pycharm": {
     "name": "#%%\n"
    }
   }
  },
  {
   "cell_type": "markdown",
   "source": [
    "#### Listes\n",
    "\n",
    "un objet ``list`` est quant à lui **mutable**, (en plus d'être **ordonné** et contenant des **types hétérogènes**).\n",
    "Pour initialiser une liste ou accédér à un élément d'une liste, utiliser l'opérateur ``[]``. Il est possible d'effectuer une ``coupe`` dans une liste pour ne sélectionner que quelques éléments, à l'aide de ``:``:"
   ],
   "metadata": {
    "collapsed": false,
    "pycharm": {
     "name": "#%% md\n"
    }
   }
  },
  {
   "cell_type": "code",
   "execution_count": null,
   "outputs": [],
   "source": [
    "l = [1,2,3,4,5]\n",
    "l"
   ],
   "metadata": {
    "collapsed": false,
    "pycharm": {
     "name": "#%%\n"
    }
   }
  },
  {
   "cell_type": "code",
   "execution_count": null,
   "outputs": [],
   "source": [
    "type(l)"
   ],
   "metadata": {
    "collapsed": false,
    "pycharm": {
     "name": "#%%\n"
    }
   }
  },
  {
   "cell_type": "code",
   "execution_count": null,
   "outputs": [],
   "source": [
    "# Longueur d'une liste\n",
    "len(l)"
   ],
   "metadata": {
    "collapsed": false,
    "pycharm": {
     "name": "#%%\n"
    }
   }
  },
  {
   "cell_type": "code",
   "execution_count": null,
   "outputs": [],
   "source": [
    "l[2] = 100 # Mutable => pas d'erreur\n",
    "l"
   ],
   "metadata": {
    "collapsed": false,
    "pycharm": {
     "name": "#%%\n"
    }
   }
  },
  {
   "cell_type": "code",
   "execution_count": null,
   "outputs": [],
   "source": [
    "l[-1] # Dernier élément d'une liste"
   ],
   "metadata": {
    "collapsed": false,
    "pycharm": {
     "name": "#%%\n"
    }
   }
  },
  {
   "cell_type": "code",
   "execution_count": null,
   "outputs": [],
   "source": [
    "l[1:3] # éléments d'indice 1 (inclus) à 3 (exclus)"
   ],
   "metadata": {
    "collapsed": false,
    "pycharm": {
     "name": "#%%\n"
    }
   }
  },
  {
   "cell_type": "code",
   "execution_count": null,
   "outputs": [],
   "source": [
    "l[::2] # éléments d'indices pairs (0, 2 et 4)"
   ],
   "metadata": {
    "collapsed": false,
    "pycharm": {
     "name": "#%%\n"
    }
   }
  },
  {
   "cell_type": "code",
   "execution_count": null,
   "outputs": [],
   "source": [
    "# Parcours d'éléments d'une liste\n",
    "for i in l:\n",
    "    print(i + 3)"
   ],
   "metadata": {
    "collapsed": false,
    "pycharm": {
     "name": "#%%\n"
    }
   }
  },
  {
   "cell_type": "code",
   "execution_count": null,
   "outputs": [],
   "source": [
    "# Liste en compréhension\n",
    "[i + 5 for i in l if i < 50]  # tous les éléments de la liste l si ils sont inférieurs à 50, auxquels on ajoute 5"
   ],
   "metadata": {
    "collapsed": false,
    "pycharm": {
     "name": "#%%\n"
    }
   }
  },
  {
   "cell_type": "markdown",
   "source": [
    "#### Sets\n",
    "\n",
    "les objets ``set`` sont des conteneurs qui regroupent des ensembles d'éléments uniques. Deux éléments identiques ne peuvent se trouver répétés dans un ``set``. Ils sont définis avec l'opérateur ``{}`` :"
   ],
   "metadata": {
    "collapsed": false,
    "pycharm": {
     "name": "#%% md\n"
    }
   }
  },
  {
   "cell_type": "code",
   "execution_count": null,
   "outputs": [],
   "source": [
    "st = {\"orange\", \"blue\", \"red\", \"green\", \"black\", \"orange\"}  # 2 fois orange !\n",
    "st"
   ],
   "metadata": {
    "collapsed": false,
    "pycharm": {
     "name": "#%%\n"
    }
   }
  },
  {
   "cell_type": "markdown",
   "source": [
    "#### Dictionnaires\n",
    "\n",
    "Les dictionnaires (objets ``dict``) sont les collections les plus puissantes et les plus utilisées dans le langage Python. Ils définissent une table d'association de paires ``clé``/``valeur``, **non ordonnée**, **mutable**, avec laquelle il est possible d'accéder aux éléments en requérant directement leur ``clé``, de manière très optimisée.\n",
    "un ``dict`` s'initialise avec l'opérateur ``{}``, en déclarant une paire selon la syntaxe ``clé:valeur`` :"
   ],
   "metadata": {
    "collapsed": false,
    "pycharm": {
     "name": "#%% md\n"
    }
   }
  },
  {
   "cell_type": "code",
   "execution_count": null,
   "outputs": [],
   "source": [
    "dct = {\"blue\": 1, \"red\": 2, \"green\": 3}\n",
    "dct"
   ],
   "metadata": {
    "collapsed": false,
    "pycharm": {
     "name": "#%%\n"
    }
   }
  },
  {
   "cell_type": "code",
   "execution_count": null,
   "outputs": [],
   "source": [
    "type(dct)"
   ],
   "metadata": {
    "collapsed": false,
    "pycharm": {
     "name": "#%%\n"
    }
   }
  },
  {
   "cell_type": "code",
   "execution_count": null,
   "outputs": [],
   "source": [
    "dct['red']"
   ],
   "metadata": {
    "collapsed": false,
    "pycharm": {
     "name": "#%%\n"
    }
   }
  },
  {
   "cell_type": "code",
   "execution_count": null,
   "outputs": [],
   "source": [
    "dct.get(\"green\")"
   ],
   "metadata": {
    "collapsed": false,
    "pycharm": {
     "name": "#%%\n"
    }
   }
  },
  {
   "cell_type": "code",
   "execution_count": null,
   "outputs": [],
   "source": [
    "# Ajout d'une paire\n",
    "dct[\"yellow\"] = 4\n",
    "dct"
   ],
   "metadata": {
    "collapsed": false,
    "pycharm": {
     "name": "#%%\n"
    }
   }
  },
  {
   "cell_type": "code",
   "execution_count": null,
   "outputs": [],
   "source": [
    "# Itération sur les paires d'un dictionnaire\n",
    "for cle, valeur in dct.items():\n",
    "    print(cle, \"=> \", valeur)"
   ],
   "metadata": {
    "collapsed": false,
    "pycharm": {
     "name": "#%%\n"
    }
   }
  },
  {
   "cell_type": "code",
   "execution_count": null,
   "outputs": [],
   "source": [
    "# Itération sur les clés d'un dictionnaire\n",
    "for cle in dct:\n",
    "    print(cle)"
   ],
   "metadata": {
    "collapsed": false,
    "pycharm": {
     "name": "#%%\n"
    }
   }
  },
  {
   "cell_type": "markdown",
   "source": [
    "### L'opérateur ``in``\n",
    "\n",
    "l'opérateur ``in`` permet de tester si une valeur appartient à une collection :"
   ],
   "metadata": {
    "collapsed": false,
    "pycharm": {
     "name": "#%% md\n"
    }
   }
  },
  {
   "cell_type": "code",
   "execution_count": null,
   "outputs": [],
   "source": [
    "print(l)\n",
    "print(\"2 :\", 2 in l)\n",
    "print(\"300 :\", 300 not in l)"
   ],
   "metadata": {
    "collapsed": false,
    "pycharm": {
     "name": "#%%\n"
    }
   }
  },
  {
   "cell_type": "code",
   "execution_count": null,
   "outputs": [],
   "source": [
    "# Dans le cas d'un dictionnaire, on teste l'appartenance à la liste des clés\n",
    "print(\"red\" in dct)\n",
    "print(\"pink\" in dct)"
   ],
   "metadata": {
    "collapsed": false,
    "pycharm": {
     "name": "#%%\n"
    }
   }
  },
  {
   "cell_type": "markdown",
   "source": [
    "### Contrôles de flux\n",
    "\n",
    "#### ``if``, ``else``, ``elif``, ``for`` et ``while``\n",
    "\n",
    "Les opérateurs de contrôle de flux ``if`` (si), ``for`` (boucle), ``while`` (boucle tant que), ``else`` (sinon), ``elif`` (sinon si) doivent **toujours** être suivis de ``:``. Ils précèdent des blocs qui doivent **obligatoirement** être indentés pour que l'interpréteur puisse identifier le contenu du bloc conditionnel. À l'inverse du langage C, le Python est un langage où l'indentation est importante, ce qui oblige les dévelopeurs à respecter une certaine ergonomie dans la syntaxe même du langage."
   ],
   "metadata": {
    "collapsed": false,
    "pycharm": {
     "name": "#%% md\n"
    }
   }
  },
  {
   "cell_type": "code",
   "execution_count": null,
   "outputs": [],
   "source": [
    "if v:\n",
    "    # Indentation obligatoire\n",
    "    a = 5 # Bloc de code à exécuter si v est vrai\n",
    "else:\n",
    "    a = 0 # Bloc à exécuter sinon\n",
    "    \n",
    "# Sortie de la condition (désindentation), tout le temps exécuté\n",
    "print(a)"
   ],
   "metadata": {
    "collapsed": false,
    "pycharm": {
     "name": "#%%\n"
    }
   }
  },
  {
   "cell_type": "code",
   "execution_count": null,
   "outputs": [],
   "source": [
    "for i in l:\n",
    "    print(\"la valeur de i =\", i)"
   ],
   "metadata": {
    "collapsed": false,
    "pycharm": {
     "name": "#%%\n"
    }
   }
  },
  {
   "cell_type": "markdown",
   "source": [
    "#### ``break``, ``continue`` et ``pass``\n",
    "\n",
    "les instructions spéciales ``break``, "
   ],
   "metadata": {
    "collapsed": false,
    "pycharm": {
     "name": "#%% md\n"
    }
   }
  },
  {
   "cell_type": "markdown",
   "metadata": {},
   "source": [
    "#### Sets\n",
    "\n",
    "les objets ``set`` sont des conteneurs qui regroupent des ensembles d'éléments uniques. Deux éléments identiques ne peuvent se trouver répétés dans un ``set``. Ils sont définis avec l'opérateur ``{}`` :"
   ]
  },
  {
   "cell_type": "code",
   "execution_count": 33,
   "metadata": {},
   "outputs": [
    {
     "data": {
      "text/plain": [
       "{'black', 'blue', 'green', 'orange', 'red'}"
      ]
     },
     "execution_count": 33,
     "metadata": {},
     "output_type": "execute_result"
    }
   ],
   "source": [
    "st = {\"orange\", \"blue\", \"red\", \"green\", \"black\", \"orange\"}  # 2 fois orange !\n",
    "st"
   ]
  },
  {
   "cell_type": "markdown",
   "metadata": {},
   "source": [
    "#### Dictionnaires\n",
    "\n",
    "Les dictionnaires (objets ``dict``) sont les collections les plus puissantes et les plus utilisées dans le langage Python. Ils définissent une table d'association de paires ``clé``/``valeur``, **non ordonnée**, **mutable**, avec laquelle il est possible d'accéder aux éléments en requérant directement leur ``clé``, de manière très optimisée.\n",
    "un ``dict`` s'initialise avec l'opérateur ``{}``, en déclarant une paire selon la syntaxe ``clé:valeur`` :"
   ]
  },
  {
   "cell_type": "code",
   "execution_count": 34,
   "metadata": {},
   "outputs": [
    {
     "data": {
      "text/plain": [
       "{'blue': 1, 'red': 2, 'green': 3}"
      ]
     },
     "execution_count": 34,
     "metadata": {},
     "output_type": "execute_result"
    }
   ],
   "source": [
    "dct = {\"blue\": 1, \"red\": 2, \"green\": 3}\n",
    "dct"
   ]
  },
  {
   "cell_type": "code",
   "execution_count": 35,
   "metadata": {},
   "outputs": [
    {
     "data": {
      "text/plain": [
       "dict"
      ]
     },
     "execution_count": 35,
     "metadata": {},
     "output_type": "execute_result"
    }
   ],
   "source": [
    "type(dct)"
   ]
  },
  {
   "cell_type": "code",
   "execution_count": 36,
   "metadata": {},
   "outputs": [
    {
     "data": {
      "text/plain": [
       "2"
      ]
     },
     "execution_count": 36,
     "metadata": {},
     "output_type": "execute_result"
    }
   ],
   "source": [
    "dct['red']"
   ]
  },
  {
   "cell_type": "code",
   "execution_count": 37,
   "metadata": {},
   "outputs": [
    {
     "data": {
      "text/plain": [
       "3"
      ]
     },
     "execution_count": 37,
     "metadata": {},
     "output_type": "execute_result"
    }
   ],
   "source": [
    "dct.get(\"green\")"
   ]
  },
  {
   "cell_type": "code",
   "execution_count": 38,
   "metadata": {},
   "outputs": [
    {
     "data": {
      "text/plain": [
       "{'blue': 1, 'red': 2, 'green': 3, 'yellow': 4}"
      ]
     },
     "execution_count": 38,
     "metadata": {},
     "output_type": "execute_result"
    }
   ],
   "source": [
    "# Ajout d'une paire\n",
    "dct[\"yellow\"] = 4\n",
    "dct"
   ]
  },
  {
   "cell_type": "code",
   "execution_count": 39,
   "metadata": {},
   "outputs": [
    {
     "name": "stdout",
     "output_type": "stream",
     "text": [
      "blue =>  1\n",
      "red =>  2\n",
      "green =>  3\n",
      "yellow =>  4\n"
     ]
    }
   ],
   "source": [
    "# Itération sur les paires d'un dictionnaire\n",
    "for cle, valeur in dct.items():\n",
    "    print(cle, \"=> \", valeur)"
   ]
  },
  {
   "cell_type": "code",
   "execution_count": 40,
   "metadata": {},
   "outputs": [
    {
     "name": "stdout",
     "output_type": "stream",
     "text": [
      "blue\n",
      "red\n",
      "green\n",
      "yellow\n"
     ]
    }
   ],
   "source": [
    "# Itération sur les clés d'un dictionnaire\n",
    "for cle in dct:\n",
    "    print(cle)"
   ]
  },
  {
   "cell_type": "markdown",
   "metadata": {},
   "source": [
    "### L'opérateur ``in``\n",
    "\n",
    "l'opérateur ``in`` permet de tester si une valeur appartient à une collection :"
   ]
  },
  {
   "cell_type": "code",
   "execution_count": 64,
   "metadata": {},
   "outputs": [
    {
     "name": "stdout",
     "output_type": "stream",
     "text": [
      "[1, 2, 100, 4, 5]\n",
      "2 : True\n",
      "300 : True\n"
     ]
    }
   ],
   "source": [
    "print(l)\n",
    "print(\"2 :\", 2 in l)\n",
    "print(\"300 :\", 300 not in l)"
   ]
  },
  {
   "cell_type": "code",
   "execution_count": 67,
   "metadata": {},
   "outputs": [
    {
     "name": "stdout",
     "output_type": "stream",
     "text": [
      "True\n",
      "False\n"
     ]
    }
   ],
   "source": [
    "# Dans le cas d'un dictionnaire, on teste l'appartenance à la liste des clés\n",
    "print(\"red\" in dct)\n",
    "print(\"pink\" in dct)"
   ]
  },
  {
   "cell_type": "markdown",
   "metadata": {},
   "source": [
    "### Contrôles de flux\n",
    "\n",
    "#### ``if``, ``else``, ``elif``, ``for`` et ``while``\n",
    "\n",
    "Les opérateurs de contrôle de flux ``if`` (si), ``for`` (boucle), ``while`` (boucle tant que), ``else`` (sinon), ``elif`` (sinon si) doivent **toujours** être suivis de ``:``. Ils précèdent des blocs qui doivent **obligatoirement** être indentés pour que l'interpréteur puisse identifier le contenu du bloc conditionnel. À l'inverse du langage C, le Python est un langage où l'indentation est importante, ce qui oblige les dévelopeurs à respecter une certaine ergonomie dans la syntaxe même du langage."
   ]
  },
  {
   "cell_type": "code",
   "execution_count": 69,
   "metadata": {},
   "outputs": [
    {
     "name": "stdout",
     "output_type": "stream",
     "text": [
      "5\n"
     ]
    }
   ],
   "source": [
    "if v:\n",
    "    # Indentation obligatoire\n",
    "    a = 5 # Bloc de code à exécuter si v est vrai\n",
    "else:\n",
    "    a = 0 # Bloc à exécuter sinon\n",
    "    \n",
    "# Sortie de la condition (désindentation), tout le temps exécuté\n",
    "print(a)"
   ]
  },
  {
   "cell_type": "code",
   "execution_count": 70,
   "metadata": {},
   "outputs": [
    {
     "name": "stdout",
     "output_type": "stream",
     "text": [
      "la valeur de i = 1\n",
      "la valeur de i = 2\n",
      "la valeur de i = 100\n",
      "la valeur de i = 4\n",
      "la valeur de i = 5\n"
     ]
    }
   ],
   "source": [
    "for i in l:\n",
    "    print(\"la valeur de i =\", i)"
   ]
  },
  {
   "cell_type": "markdown",
   "metadata": {},
   "source": [
    "#### ``break``, ``continue`` et ``pass``\n",
    "\n",
    "les instructions spéciales ``break``, "
   ]
  },
  {
   "cell_type": "code",
   "execution_count": 41,
   "metadata": {},
   "outputs": [],
   "source": [
    "# Paquets de la librairie standard\n",
    "import pickle\n",
    "import bz2\n",
    "\n",
    "map_512 = {\"temperature\": None, \"density\": None, \"metallicity\": None, \"entropy\": None}\n",
    "\n",
    "with bz2.BZ2File(\"data/temperature.pkl.bz2\", 'rb') as f:\n",
    "    map_512[\"temperature\"] = pickle.load(f)\n",
    "with bz2.BZ2File(\"data/metal.pkl.bz2\", 'rb') as f:\n",
    "    map_512[\"metallicity\"] = pickle.load(f)\n",
    "with bz2.BZ2File(\"data/density.pkl.bz2\", 'rb') as f:\n",
    "    map_512[\"density\"] = pickle.load(f)\n",
    "with bz2.BZ2File(\"data/entropy.pkl.bz2\", 'rb') as f:\n",
    "    map_512[\"entropy\"] = pickle.load(f)"
   ]
  },
  {
   "cell_type": "code",
   "execution_count": null,
   "metadata": {},
   "outputs": [],
   "source": []
  },
  {
   "cell_type": "code",
   "execution_count": null,
   "metadata": {},
   "outputs": [],
   "source": []
  },
  {
   "cell_type": "code",
   "execution_count": null,
   "metadata": {},
   "outputs": [],
   "source": []
  }
 ],
 "metadata": {
  "kernelspec": {
   "display_name": "Python 3 (ipykernel)",
   "language": "python",
   "name": "python3"
  },
  "language_info": {
   "codemirror_mode": {
    "name": "ipython",
    "version": 3
   },
   "file_extension": ".py",
   "mimetype": "text/x-python",
   "name": "python",
   "nbconvert_exporter": "python",
   "pygments_lexer": "ipython3",
   "version": "3.8.10"
  }
 },
 "nbformat": 4,
 "nbformat_minor": 1
}